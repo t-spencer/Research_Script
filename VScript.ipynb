{
 "cells": [
  {
   "cell_type": "code",
   "execution_count": 1,
   "metadata": {
    "collapsed": false
   },
   "outputs": [
    {
     "name": "stdout",
     "output_type": "stream",
     "text": [
      "\n",
      " Research Visualization Script v1.0 \n",
      " Author: Trent Spencer, Texas A&M University \n",
      " Python 3.5 \n",
      " See LICENSE for details of use \n",
      " See Github or Code for Version History \n",
      "\n",
      "Script began at: 2016-03-19 08:25:35.798409 UTC.\n",
      "Script took  2.2364799976348877  seconds to run.\n"
     ]
    }
   ],
   "source": [
    "#----------VERSION HISTORY-----------------------------------\n",
    "# Feb 22, 2016 - Created Initial file, got file to ingest into code (v0.1->v0.1.1), working to figure out\n",
    "# pulling an example variable out and plotting it (for testing purposes)  -Trent S.\n",
    "#\n",
    "# Mar 19, 2016 - Altered code to plot a single output variable, future work will go into adding more plots,\n",
    "# figuring out what else needs to be added. Also changed into new git repository, went from Python 2.7 to\n",
    "# 3.5 (v0.1.1->v1.0)\n",
    "#------------------------------------------------------------------------------------------------------------------\n",
    "print(\"\\n Research Visualization Script v1.0 \\n Author: Trent Spencer, Texas A&M University \\n Python 3.5 \\n See LICENSE for details of use \\n See Github or Code for Version History \\n\")\n",
    "# This section imports the necessary modules\n",
    "import netCDF4 as nc\n",
    "import numpy as np\n",
    "import matplotlib.pyplot as plt\n",
    "import matplotlib.cm as cm\n",
    "import time\n",
    "from datetime import datetime\n",
    "\n",
    "# Begin of actual script\n",
    "def Vis_script(time, ni, nj, nk):\n",
    "    data = nc.Dataset(\"../cm1out.nc\")\n",
    "    timedata = data.variables[\"time\"][time]\n",
    "    mxvertvort = data.variables['svs'][time, ni, nj]\n",
    "    x = data.variables['xh'][ni]\n",
    "    y = data.variables['yh'][nj]\n",
    "    xall, yall = np.meshgrid(x, y)\n",
    "    fig1 = plt.figure(figsize = (20,20))\n",
    "    ax1 = fig1.add_subplot(111)\n",
    "    return ax1.contourf(xall,yall,mxvertvort, cmap = cm.Blues)\n",
    "    \n",
    "\n",
    "print('Script began at:', datetime.utcnow(), 'UTC.')\n",
    "sttime = time.time()\n",
    "for t in range(0,3):\n",
    "    Vis_script(t,range(0,120),range(0,120),0)\n",
    "    plt.savefig(str(t) + \"cm1svs.png\")\n",
    "entime = time.time()\n",
    "print(\"Script took \", (entime - sttime), \" seconds to run.\")"
   ]
  },
  {
   "cell_type": "code",
   "execution_count": null,
   "metadata": {
    "collapsed": true
   },
   "outputs": [],
   "source": []
  }
 ],
 "metadata": {
  "kernelspec": {
   "display_name": "Python 3",
   "language": "python",
   "name": "python3"
  },
  "language_info": {
   "codemirror_mode": {
    "name": "ipython",
    "version": 3
   },
   "file_extension": ".py",
   "mimetype": "text/x-python",
   "name": "python",
   "nbconvert_exporter": "python",
   "pygments_lexer": "ipython3",
   "version": "3.5.1"
  }
 },
 "nbformat": 4,
 "nbformat_minor": 0
}
